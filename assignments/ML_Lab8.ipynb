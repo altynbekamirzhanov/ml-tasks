{
 "cells": [
  {
   "cell_type": "markdown",
   "metadata": {},
   "source": [
    "### Before importing you need to install pygmaps library"
   ]
  },
  {
   "cell_type": "code",
   "execution_count": 1,
   "metadata": {},
   "outputs": [],
   "source": [
    "from geopy.geocoders import Nominatim\n",
    "from sklearn.cluster import KMeans\n",
    "from time import sleep\n",
    "import numpy as np\n",
    "import pygmaps"
   ]
  },
  {
   "cell_type": "markdown",
   "metadata": {},
   "source": [
    "### Here is the function that returns the lattitude and longitude"
   ]
  },
  {
   "cell_type": "code",
   "execution_count": 2,
   "metadata": {},
   "outputs": [],
   "source": [
    "def geoGrab(address):\n",
    "    geolocator = Nominatim(user_agent=\"altyn\")\n",
    "    location = geolocator.geocode(address)\n",
    "    if location is not None:\n",
    "        loc = {}\n",
    "        loc['latitude'] = location.latitude\n",
    "        loc['longitude'] = location.longitude\n",
    "        return loc\n",
    "    else:\n",
    "        return None\n",
    "\n"
   ]
  },
  {
   "cell_type": "markdown",
   "metadata": {},
   "source": [
    "### Fill out this function placeFind()"
   ]
  },
  {
   "cell_type": "code",
   "execution_count": 3,
   "metadata": {},
   "outputs": [
    {
     "name": "stdout",
     "output_type": "stream",
     "text": [
      "Error: KazCom\tRozybakiev St 277\n",
      "\n",
      "Error: Salamat-5\tAlmaty, ul. Shevchenko, 204\n",
      "\n",
      "Error: Del Papa\tAlmaty, ul. Kabanbay Batyra, 83\n",
      "\n"
     ]
    }
   ],
   "source": [
    "def placeFind(fileName):\n",
    "    fw = open('places.txt', 'w+')\n",
    "    for line in open(fileName).readlines():\n",
    "        loc = geoGrab(line.split('\\t')[1])\n",
    "        # read rows and take their exact address \n",
    "        # use geoGrab which returns a location stored in a dictionary format\n",
    "        if loc is not None:\n",
    "            fw.write(str(loc['latitude'])+\" \"+str(loc['longitude'])+\"\\n\")\n",
    "            # write the longitude and latitude to places.txt\n",
    "        else:\n",
    "            print(\"Error: \" + line)\n",
    "            # inform about error\n",
    "        sleep(2) # the time pause needed as it takes some time to \n",
    "                 # connect through Google API and find location\n",
    "    fw.close()\n",
    "\n",
    "placeFind(\"almatyPlaces.txt\")"
   ]
  },
  {
   "cell_type": "code",
   "execution_count": 4,
   "metadata": {},
   "outputs": [],
   "source": [
    "X = []\n",
    "c = [\"#FF0000\", \"#0000FF\", \"#00FF00\"]\n",
    "\n",
    "for line in open('places.txt').readlines():\n",
    "    a, b = line.replace(\"\\n\", \"\").split(\" \")\n",
    "    if float(b) < 80:\n",
    "        X += [[float(a), float(b)]]\n",
    "X = np.array(X)"
   ]
  },
  {
   "cell_type": "markdown",
   "metadata": {},
   "source": [
    "### Write your own function k-means:"
   ]
  },
  {
   "cell_type": "code",
   "execution_count": 5,
   "metadata": {},
   "outputs": [],
   "source": [
    "def clusterPlaces(numClust):\n",
    "    kmeans = KMeans(n_clusters=numClust).fit(X)\n",
    "    labels = kmeans.predict(X)\n",
    "    \n",
    "    mymap = pygmaps.maps(43.233666, 76.911592, 13)\n",
    "    for i in range(len(X)):\n",
    "        mymap.addpoint(X[i,0], X[i,1], c[labels[i]])\n",
    "    mymap.draw('mymap.html')\n",
    "\n",
    "clusterPlaces(3)"
   ]
  },
  {
   "cell_type": "markdown",
   "metadata": {},
   "source": [
    "At the end you need to obtain html file with points on the maps"
   ]
  }
 ],
 "metadata": {
  "kernelspec": {
   "display_name": "Python 3",
   "language": "python",
   "name": "python3"
  },
  "language_info": {
   "codemirror_mode": {
    "name": "ipython",
    "version": 3
   },
   "file_extension": ".py",
   "mimetype": "text/x-python",
   "name": "python",
   "nbconvert_exporter": "python",
   "pygments_lexer": "ipython3",
   "version": "3.6.5"
  }
 },
 "nbformat": 4,
 "nbformat_minor": 2
}
