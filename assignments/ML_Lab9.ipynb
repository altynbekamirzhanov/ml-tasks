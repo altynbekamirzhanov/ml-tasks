{
 "cells": [
  {
   "cell_type": "code",
   "execution_count": 2,
   "metadata": {},
   "outputs": [],
   "source": [
    "%matplotlib inline\n",
    "import numpy as np\n",
    "import matplotlib.pyplot as plt\n",
    "from scipy.io import loadmat"
   ]
  },
  {
   "cell_type": "code",
   "execution_count": 8,
   "metadata": {},
   "outputs": [
    {
     "data": {
      "text/plain": [
       "(50, 2)"
      ]
     },
     "execution_count": 8,
     "metadata": {},
     "output_type": "execute_result"
    }
   ],
   "source": [
    "data = loadmat(\"ex7data1.mat\")\n",
    "X = data['X']\n",
    "np.shape(X)"
   ]
  },
  {
   "cell_type": "code",
   "execution_count": 9,
   "metadata": {},
   "outputs": [
    {
     "data": {
      "image/png": "[encoded data removed]",
      "text/plain": [
       "<Figure size 432x288 with 1 Axes>"
      ]
     },
     "metadata": {},
     "output_type": "display_data"
    }
   ],
   "source": [
    "plt.scatter(X[:,0], X[:,1])\n",
    "plt.grid(True)\n",
    "plt.show()"
   ]
  },
  {
   "cell_type": "code",
   "execution_count": 10,
   "metadata": {
    "scrolled": false
   },
   "outputs": [
    {
     "name": "stdout",
     "output_type": "stream",
     "text": [
      "[[-0.52331306 -1.59279252]\n",
      " [ 0.46381518  0.84034523]\n",
      " [-1.14839331 -0.58315891]\n",
      " [-1.05405373 -1.27071783]\n",
      " [-0.98402167 -0.81658417]\n",
      " [-0.08490201  1.46633377]\n",
      " [-0.44215763 -1.35221333]\n",
      " [ 1.65512709  1.65622961]\n",
      " [-0.05198776  0.09440201]\n",
      " [ 0.49305926  0.61245677]\n",
      " [ 0.50359639  0.38973079]\n",
      " [ 0.32935623  0.45242294]\n",
      " [ 0.17431804 -0.04748911]\n",
      " [ 1.08056741 -0.33689741]\n",
      " [-0.99325294 -1.21879564]\n",
      " [ 1.41742949  1.2923503 ]\n",
      " [ 0.60026548  0.65385535]\n",
      " [-0.98061738 -0.37147508]\n",
      " [ 0.96523763  2.32981886]\n",
      " [ 1.02758927 -0.35168199]\n",
      " [ 1.47948139  1.65649752]\n",
      " [-0.35270365 -0.19743438]\n",
      " [ 1.42096706  1.10315449]\n",
      " [ 0.23612558 -0.30931801]\n",
      " [-1.25101023 -1.1038306 ]\n",
      " [-0.65914279 -0.05946964]\n",
      " [ 0.80965726  0.93988073]\n",
      " [ 1.55321995  0.10421963]\n",
      " [-1.00960756 -0.18146695]\n",
      " [-0.08649323  0.09629619]\n",
      " [-0.55631899  0.87867759]\n",
      " [ 1.62794601  0.51189371]\n",
      " [-0.76240121 -1.13086421]\n",
      " [ 1.15584817 -0.31789212]\n",
      " [-0.5285968  -0.43176175]\n",
      " [ 0.67806821  1.23533447]\n",
      " [-1.13111516 -1.25536309]\n",
      " [ 1.30118247  0.66791095]\n",
      " [-1.88774936 -1.73253268]\n",
      " [ 0.28697223  0.10689618]\n",
      " [ 0.37178505  1.00958613]\n",
      " [-0.69748919 -0.55861538]\n",
      " [-0.82300596 -1.01074999]\n",
      " [ 0.53397416  0.86562738]\n",
      " [-0.8830723  -1.68050588]\n",
      " [-0.01507225  0.39968681]\n",
      " [-2.41895154 -2.09660014]\n",
      " [-1.7828174   0.06738835]\n",
      " [-0.02929439 -0.49103538]\n",
      " [ 0.97195249  1.06825042]]\n"
     ]
    }
   ],
   "source": [
    "from sklearn.preprocessing import StandardScaler\n",
    "X_std = StandardScaler().fit_transform(X)\n",
    "print(X_std)"
   ]
  },
  {
   "cell_type": "code",
   "execution_count": 11,
   "metadata": {},
   "outputs": [
    {
     "name": "stdout",
     "output_type": "stream",
     "text": [
      "Eigenvectors\n",
      "[[ 0.70710678 -0.70710678]\n",
      " [ 0.70710678  0.70710678]]\n",
      "Eigenvalues\n",
      "[1.77094936 0.26986696]\n"
     ]
    }
   ],
   "source": [
    "cov_mat = np.cov(X_std.T)\n",
    "eigen_vals, eigen_vecs = np.linalg.eig(cov_mat)\n",
    "print(\"Eigenvectors\\n%s\" % eigen_vecs)\n",
    "print(\"Eigenvalues\\n%s\" % eigen_vals)"
   ]
  },
  {
   "cell_type": "code",
   "execution_count": 26,
   "metadata": {
    "scrolled": false
   },
   "outputs": [
    {
     "data": {
      "image/png": "[encoded data removed]",
      "text/plain": [
       "<Figure size 432x288 with 1 Axes>"
      ]
     },
     "metadata": {},
     "output_type": "display_data"
    }
   ],
   "source": [
    "plt.quiver([0], [0], eigen_vecs[0,:], eigen_vecs[1,:], color=['g','r'], scale=4)\n",
    "plt.scatter(X_std[:,0], X_std[:, 1], alpha=0.4)\n",
    "plt.axis('equal');"
   ]
  },
  {
   "cell_type": "code",
   "execution_count": 28,
   "metadata": {},
   "outputs": [
    {
     "data": {
      "text/plain": [
       "(-2.665280599450896, 1.901456147836463, -2.5046329180462386, 2.622690738904104)"
      ]
     },
     "execution_count": 28,
     "metadata": {},
     "output_type": "execute_result"
    },
    {
     "data": {
      "image/png": "[encoded data removed]",
      "text/plain": [
       "<Figure size 432x288 with 1 Axes>"
      ]
     },
     "metadata": {},
     "output_type": "display_data"
    }
   ],
   "source": [
    "u_guessed_row = eigen_vecs[:,0].reshape((1, 2))  # A row vector\n",
    "c_values = u_guessed_row.dot(X_std.T)  # c values for scaling u\n",
    "projected = u_guessed_row.T.dot(c_values)\n",
    "plt.scatter(projected[0], projected[1], c='r')\n",
    "plt.scatter(X_std[:,0], X_std[:, 1])\n",
    "plt.axis(\"equal\")"
   ]
  },
  {
   "cell_type": "code",
   "execution_count": null,
   "metadata": {},
   "outputs": [],
   "source": []
  }
 ],
 "metadata": {
  "kernelspec": {
   "display_name": "Python 3",
   "language": "python",
   "name": "python3"
  },
  "language_info": {
   "codemirror_mode": {
    "name": "ipython",
    "version": 3
   },
   "file_extension": ".py",
   "mimetype": "text/x-python",
   "name": "python",
   "nbconvert_exporter": "python",
   "pygments_lexer": "ipython3",
   "version": "3.6.5"
  }
 },
 "nbformat": 4,
 "nbformat_minor": 2
}
