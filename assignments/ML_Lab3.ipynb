{
 "cells": [
  {
   "cell_type": "code",
   "execution_count": 233,
   "metadata": {},
   "outputs": [],
   "source": [
    "import random\n",
    "import numpy as np\n",
    "import matplotlib.pyplot as plt\n",
    "import matplotlib as cm\n",
    "import scipy.io as sc"
   ]
  },
  {
   "cell_type": "markdown",
   "metadata": {},
   "source": [
    "#### Data"
   ]
  },
  {
   "cell_type": "code",
   "execution_count": 234,
   "metadata": {},
   "outputs": [
    {
     "name": "stdout",
     "output_type": "stream",
     "text": [
      "Y shape:\t (5000, 1)\n",
      "Class labels:\t [ 1  2  3  4  5  6  7  8  9 10]\n",
      "X shape:\t (5000, 400)\n",
      "X[0] shape:\t (400,)\n"
     ]
    }
   ],
   "source": [
    "data = sc.loadmat('digits.mat')\n",
    "Y = data['y']\n",
    "X = data['X']\n",
    "print(\"Y shape:\\t\", Y.shape)\n",
    "print(\"Class labels:\\t\", np.unique(Y))\n",
    "print(\"X shape:\\t\", X.shape)\n",
    "print(\"X[0] shape:\\t\", X[0].shape)"
   ]
  },
  {
   "cell_type": "markdown",
   "metadata": {},
   "source": [
    "#### Data visualization"
   ]
  },
  {
   "cell_type": "code",
   "execution_count": 235,
   "metadata": {},
   "outputs": [],
   "source": [
    "def displayData(i):\n",
    "    plt.imshow(np.reshape(X[i*500], (20,20)).T, cmap=plt.cm.gray_r, interpolation=\"nearest\")\n",
    "    plt.title(\"The current digit is \" + str(i))"
   ]
  },
  {
   "cell_type": "code",
   "execution_count": 236,
   "metadata": {},
   "outputs": [
    {
     "data": {
      "image/png": "[encoded data removed]",
      "text/plain": [
       "<Figure size 432x288 with 1 Axes>"
      ]
     },
     "metadata": {},
     "output_type": "display_data"
    }
   ],
   "source": [
    "digit = 2\n",
    "displayData(digit)"
   ]
  },
  {
   "cell_type": "markdown",
   "metadata": {},
   "source": [
    "#### Hypothesis and cost fucntions"
   ]
  },
  {
   "cell_type": "code",
   "execution_count": 237,
   "metadata": {},
   "outputs": [
    {
     "data": {
      "text/plain": [
       "-85257.10320887493"
      ]
     },
     "execution_count": 237,
     "metadata": {},
     "output_type": "execute_result"
    }
   ],
   "source": [
    "def h(z):\n",
    "    return 1.0 / (1.0 + np.exp(-z))\n",
    "\n",
    "def cost_function(x, y, w):\n",
    "    w = np.matrix(w)\n",
    "    z = x * w.T\n",
    "    return (-y.T * np.log(h(z)) - (1-y.T) * np.log(1-h(z))).sum()\n",
    "\n",
    "W = np.zeros(400)\n",
    "cost_function(X, Y, W)"
   ]
  },
  {
   "cell_type": "markdown",
   "metadata": {
    "collapsed": true
   },
   "source": [
    "#### Gradient descent algorithm"
   ]
  },
  {
   "cell_type": "code",
   "execution_count": 238,
   "metadata": {},
   "outputs": [
    {
     "data": {
      "text/plain": [
       "array([[ 0.00000000e+00,  0.00000000e+00, -7.74530186e-08,\n",
       "         3.19876600e-06,  1.89536237e-05, -7.06376094e-04,\n",
       "        -8.97395355e-04, -3.72741263e-04, -1.10787541e-04,\n",
       "        -1.37049401e-04, -4.11905416e-05,  3.09307938e-05,\n",
       "         7.56273049e-05,  1.66101324e-04,  1.88959823e-04,\n",
       "         1.11618541e-04,  3.44740605e-05,  2.31849497e-07,\n",
       "        -3.65944989e-07,  0.00000000e+00, -2.71480120e-07,\n",
       "         2.68348312e-06,  1.35802658e-06,  5.10971729e-05,\n",
       "         9.29459372e-05, -1.13518367e-03, -4.04630781e-03,\n",
       "        -5.65616107e-03, -4.38249876e-03, -1.22936584e-03,\n",
       "         1.06402725e-03,  1.67724463e-03,  1.83122226e-03,\n",
       "         1.41359436e-03,  1.00669534e-03,  6.22600175e-04,\n",
       "         2.88468971e-04,  1.69300222e-04,  4.53328568e-05,\n",
       "         1.64277642e-05,  2.32894093e-06, -2.61429416e-05,\n",
       "         6.07579192e-05, -2.68789968e-04, -2.19152610e-03,\n",
       "        -1.11673884e-02, -2.41869621e-02, -3.12963830e-02,\n",
       "        -2.35164217e-02, -1.04915336e-02, -4.58342103e-03,\n",
       "        -2.20552420e-03, -7.25689198e-03, -1.98220888e-02,\n",
       "        -2.48313796e-02, -1.34236274e-02, -3.68460614e-03,\n",
       "        -8.31286716e-04,  1.20163793e-04, -9.42864675e-05,\n",
       "         9.81812364e-06, -4.84781693e-05, -3.22216282e-04,\n",
       "        -4.37083228e-03, -1.56078501e-02, -5.51743564e-02,\n",
       "        -1.02255046e-01, -1.30953454e-01, -1.35603926e-01,\n",
       "        -1.44986313e-01, -1.83117808e-01, -2.23883398e-01,\n",
       "        -2.66529386e-01, -2.88212315e-01, -2.61481699e-01,\n",
       "        -1.68468511e-01, -6.60981462e-02, -1.54880439e-02,\n",
       "        -4.76585598e-03, -1.16342219e-03,  1.18945364e-05,\n",
       "         1.03519679e-04, -1.58746689e-03, -1.38591538e-02,\n",
       "        -5.31432174e-02, -1.49280120e-01, -2.84733107e-01,\n",
       "        -3.88598873e-01, -4.71401523e-01, -5.80730831e-01,\n",
       "        -6.96410402e-01, -7.56804731e-01, -7.69798074e-01,\n",
       "        -7.94228138e-01, -7.79978205e-01, -5.91391003e-01,\n",
       "        -2.83839005e-01, -7.68726609e-02, -2.75779379e-02,\n",
       "        -6.36470243e-03, -1.67647949e-04, -5.62462566e-04,\n",
       "        -4.04153318e-03, -3.99032106e-02, -1.49971197e-01,\n",
       "        -4.04324105e-01, -7.36798412e-01, -9.88293896e-01,\n",
       "        -1.19208507e+00, -1.37748702e+00, -1.42634895e+00,\n",
       "        -1.33379635e+00, -1.23709688e+00, -1.24573198e+00,\n",
       "        -1.32430524e+00, -1.20674476e+00, -7.39019568e-01,\n",
       "        -2.67115070e-01, -9.78870874e-02, -1.77541188e-02,\n",
       "        -3.50514798e-04, -2.58326183e-03, -1.31526129e-02,\n",
       "        -9.90988481e-02, -3.61743989e-01, -8.91212541e-01,\n",
       "        -1.43978937e+00, -1.83400378e+00, -2.03530387e+00,\n",
       "        -2.09106126e+00, -1.94875603e+00, -1.70583955e+00,\n",
       "        -1.47968961e+00, -1.42197323e+00, -1.59395506e+00,\n",
       "        -1.70112843e+00, -1.32199039e+00, -5.71019694e-01,\n",
       "        -1.87374529e-01, -2.77737534e-02, -2.42273365e-05,\n",
       "        -4.61268517e-03, -3.34155999e-02, -2.34863666e-01,\n",
       "        -7.61809493e-01, -1.59177759e+00, -2.29905165e+00,\n",
       "        -2.57121022e+00, -2.43751707e+00, -2.23369364e+00,\n",
       "        -2.01875596e+00, -1.80614071e+00, -1.53006820e+00,\n",
       "        -1.42070936e+00, -1.68184891e+00, -2.09958108e+00,\n",
       "        -1.93377422e+00, -9.20038031e-01, -2.58339525e-01,\n",
       "        -3.57604260e-02,  7.01455287e-05, -4.50548865e-03,\n",
       "        -6.60670514e-02, -4.62046158e-01, -1.27970131e+00,\n",
       "        -2.29298357e+00, -2.82056128e+00, -2.54656738e+00,\n",
       "        -2.06471118e+00, -1.88491857e+00, -1.91108189e+00,\n",
       "        -1.84048875e+00, -1.48740536e+00, -1.34270417e+00,\n",
       "        -1.78537985e+00, -2.43529719e+00, -2.34020543e+00,\n",
       "        -1.11854653e+00, -2.64343565e-01, -3.91437067e-02,\n",
       "         6.77499746e-04, -7.74385868e-03, -1.21859198e-01,\n",
       "        -7.54696017e-01, -1.83235136e+00, -2.78988367e+00,\n",
       "        -2.74378700e+00, -1.93846031e+00, -1.44960100e+00,\n",
       "        -1.57817643e+00, -1.97150934e+00, -1.94220020e+00,\n",
       "        -1.55975916e+00, -1.55128537e+00, -2.12740282e+00,\n",
       "        -2.68684099e+00, -2.38247716e+00, -1.11127240e+00,\n",
       "        -2.54922447e-01, -4.15072910e-02,  1.97325664e-03,\n",
       "        -1.90561252e-02, -2.04456025e-01, -1.06271632e+00,\n",
       "        -2.30782957e+00, -2.93581416e+00, -2.31623799e+00,\n",
       "        -1.35382594e+00, -1.13176728e+00, -1.65297269e+00,\n",
       "        -2.24113272e+00, -2.23590726e+00, -2.01171354e+00,\n",
       "        -2.06963344e+00, -2.48159101e+00, -2.67620297e+00,\n",
       "        -2.06629384e+00, -9.28720584e-01, -2.36274184e-01,\n",
       "        -3.87815696e-02,  3.15902809e-03, -3.48183384e-02,\n",
       "        -2.75037929e-01, -1.21620534e+00, -2.42195595e+00,\n",
       "        -2.83889337e+00, -2.10857396e+00, -1.38568584e+00,\n",
       "        -1.48048105e+00, -2.16226127e+00, -2.63134846e+00,\n",
       "        -2.54432292e+00, -2.32799537e+00, -2.33124490e+00,\n",
       "        -2.52236547e+00, -2.33883379e+00, -1.56454456e+00,\n",
       "        -6.73669442e-01, -1.90194969e-01, -2.83831225e-02,\n",
       "         4.09572057e-03, -4.20827773e-02, -2.75134637e-01,\n",
       "        -1.13091175e+00, -2.17738398e+00, -2.65227384e+00,\n",
       "        -2.26903773e+00, -1.90192356e+00, -2.09249377e+00,\n",
       "        -2.48994794e+00, -2.58868429e+00, -2.40482668e+00,\n",
       "        -2.22716736e+00, -2.25014771e+00, -2.20867847e+00,\n",
       "        -1.72189058e+00, -9.97029842e-01, -4.09836452e-01,\n",
       "        -1.27133728e-01, -1.70580543e-02,  3.13993466e-03,\n",
       "        -3.03361535e-02, -1.92633016e-01, -8.31583414e-01,\n",
       "        -1.69925560e+00, -2.30632080e+00, -2.35531159e+00,\n",
       "        -2.22170039e+00, -2.21056073e+00, -2.12956569e+00,\n",
       "        -1.95520074e+00, -1.85964612e+00, -1.84542272e+00,\n",
       "        -1.81571146e+00, -1.56096965e+00, -1.04233201e+00,\n",
       "        -5.40265087e-01, -2.15225136e-01, -6.36812454e-02,\n",
       "        -6.55875358e-03,  1.16280921e-03, -1.37871691e-02,\n",
       "        -9.69631631e-02, -5.05256347e-01, -1.13694473e+00,\n",
       "        -1.75436237e+00, -2.02203013e+00, -1.98265074e+00,\n",
       "        -1.77567633e+00, -1.53252469e+00, -1.41101985e+00,\n",
       "        -1.40737913e+00, -1.38029305e+00, -1.20247919e+00,\n",
       "        -9.01544086e-01, -5.24493973e-01, -2.50542382e-01,\n",
       "        -1.11804927e-01, -3.72537400e-02, -3.00173078e-03,\n",
       "         1.42120275e-04, -3.23306457e-03, -3.11719229e-02,\n",
       "        -2.41682228e-01, -6.23768336e-01, -1.04570818e+00,\n",
       "        -1.28992138e+00, -1.25461098e+00, -1.09387791e+00,\n",
       "        -1.00255262e+00, -9.71125512e-01, -9.28781944e-01,\n",
       "        -8.17053514e-01, -6.24953386e-01, -3.99352484e-01,\n",
       "        -1.95206305e-01, -9.23110091e-02, -4.84489174e-02,\n",
       "        -1.92006244e-02, -2.66848220e-03, -6.90103486e-06,\n",
       "         3.94135989e-04, -8.80224656e-03, -1.08845141e-01,\n",
       "        -3.09772003e-01, -5.15584061e-01, -6.02798155e-01,\n",
       "        -5.71924935e-01, -5.35617527e-01, -5.47558902e-01,\n",
       "        -5.41896445e-01, -4.87398855e-01, -3.78179794e-01,\n",
       "        -2.49598514e-01, -1.39609144e-01, -6.35372822e-02,\n",
       "        -2.84109208e-02, -1.42635428e-02, -5.55548256e-03,\n",
       "        -9.60041221e-04,  1.21246535e-05,  3.07941317e-04,\n",
       "        -8.29499578e-04, -3.27515866e-02, -1.13416133e-01,\n",
       "        -1.82518143e-01, -1.70239493e-01, -1.17195094e-01,\n",
       "        -1.20420331e-01, -1.48864951e-01, -1.53785281e-01,\n",
       "        -1.35096198e-01, -9.99232975e-02, -5.44781977e-02,\n",
       "        -2.84421681e-02, -1.46130827e-02, -4.33751539e-03,\n",
       "        -9.44593753e-04, -5.18773141e-04,  6.48827912e-05,\n",
       "        -4.87642974e-07,  6.27297794e-07,  4.61410941e-04,\n",
       "        -1.98848770e-03, -1.99058091e-02, -3.94984584e-02,\n",
       "        -2.38204539e-02, -2.46369638e-03,  1.53081819e-03,\n",
       "         6.72133437e-04, -1.00297948e-03, -1.28705371e-03,\n",
       "        -2.70333767e-03, -9.27770272e-04, -9.76466699e-04,\n",
       "        -1.98728743e-03, -5.19279352e-04,  2.57396529e-04,\n",
       "         7.32073291e-05,  6.74947236e-06,  0.00000000e+00,\n",
       "        -1.24208538e-06,  2.17199105e-05,  5.41709746e-05,\n",
       "        -1.98024228e-03, -2.96636389e-03, -5.73778952e-04,\n",
       "         1.47668056e-04, -7.64967266e-04,  1.70864299e-04,\n",
       "         5.90507649e-04,  1.77705465e-04, -1.28301985e-04,\n",
       "         1.35333512e-04, -1.94108711e-04, -4.59449934e-04,\n",
       "        -1.17801181e-04,  7.28764624e-06,  6.02839052e-07,\n",
       "         0.00000000e+00]])"
      ]
     },
     "execution_count": 238,
     "metadata": {},
     "output_type": "execute_result"
    }
   ],
   "source": [
    "def gradient_descent(x, y, w, lr):\n",
    "    w = np.matrix(w)\n",
    "    z = h(x * w.T) - y\n",
    "    N = len(y)\n",
    "    \n",
    "    grad = ((x.T * z) / N).T - ((lr / N) * w)\n",
    "    grad[0,0] = np.sum(np.multiply(z, x[:,0])) / N\n",
    "\n",
    "    return np.array(grad)\n",
    "\n",
    "gradient_descent(X, Y, W, 0.005)"
   ]
  },
  {
   "cell_type": "markdown",
   "metadata": {},
   "source": [
    "#### One vs all classification"
   ]
  },
  {
   "cell_type": "code",
   "execution_count": null,
   "metadata": {},
   "outputs": [],
   "source": []
  },
  {
   "cell_type": "markdown",
   "metadata": {},
   "source": [
    "#### Calculate accuracy"
   ]
  },
  {
   "cell_type": "code",
   "execution_count": null,
   "metadata": {},
   "outputs": [],
   "source": []
  }
 ],
 "metadata": {
  "kernelspec": {
   "display_name": "Python 3",
   "language": "python",
   "name": "python3"
  },
  "language_info": {
   "codemirror_mode": {
    "name": "ipython",
    "version": 3
   },
   "file_extension": ".py",
   "mimetype": "text/x-python",
   "name": "python",
   "nbconvert_exporter": "python",
   "pygments_lexer": "ipython3",
   "version": "3.6.5"
  }
 },
 "nbformat": 4,
 "nbformat_minor": 1
}
