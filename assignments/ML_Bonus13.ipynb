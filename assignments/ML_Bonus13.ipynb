{
 "cells": [
  {
   "cell_type": "code",
   "execution_count": null,
   "metadata": {},
   "outputs": [],
   "source": [
    "import numpy as np\n",
    "import pandas as pd\n",
    "import scipy.io as sc\n",
    "import matplotlib.pyplot as plt\n",
    "from sklearn.cluster import KMeans"
   ]
  },
  {
   "cell_type": "code",
   "execution_count": 20,
   "metadata": {},
   "outputs": [],
   "source": [
    "data = sc.loadmat(\"data.mat\")\n",
    "X = data['Xval']\n",
    "y = data['yval']"
   ]
  },
  {
   "cell_type": "code",
   "execution_count": 21,
   "metadata": {},
   "outputs": [
    {
     "data": {
      "image/png": "[encoded data removed]",
      "text/plain": [
       "<Figure size 432x288 with 1 Axes>"
      ]
     },
     "metadata": {},
     "output_type": "display_data"
    }
   ],
   "source": [
    "plt.scatter(X[:,0], X[:,1])\n",
    "plt.grid(True)"
   ]
  },
  {
   "cell_type": "code",
   "execution_count": 31,
   "metadata": {},
   "outputs": [
    {
     "data": {
      "text/plain": [
       "array([6, 4, 1, 0, 4, 4, 6, 4, 0, 6, 0, 6, 6, 0, 6, 1, 4, 6, 6, 1, 4, 0,\n",
       "       6, 1, 4, 4, 0, 6, 1, 4, 6, 1, 4, 6, 4, 4, 0, 0, 1, 4, 1, 1, 6, 4,\n",
       "       6, 6, 1, 1, 4, 0, 1, 6, 4, 1, 1, 6, 6, 4, 4, 6, 6, 4, 4, 4, 1, 6,\n",
       "       0, 6, 1, 1, 6, 4, 1, 6, 6, 4, 1, 1, 0, 1, 4, 1, 4, 6, 6, 6, 0, 0,\n",
       "       4, 6, 4, 0, 4, 6, 0, 1, 4, 1, 4, 6, 0, 6, 6, 4, 4, 1, 1, 6, 0, 4,\n",
       "       6, 6, 0, 6, 1, 6, 1, 0, 6, 6, 4, 6, 6, 0, 6, 4, 1, 0, 6, 1, 6, 1,\n",
       "       0, 6, 4, 6, 0, 1, 0, 4, 1, 1, 4, 1, 4, 4, 6, 1, 0, 4, 4, 6, 0, 6,\n",
       "       1, 6, 4, 6, 0, 6, 4, 1, 1, 1, 1, 0, 6, 4, 0, 4, 1, 1, 1, 0, 0, 4,\n",
       "       0, 0, 4, 4, 6, 1, 0, 1, 4, 1, 1, 6, 0, 4, 0, 6, 0, 1, 0, 4, 4, 4,\n",
       "       4, 1, 1, 6, 6, 1, 4, 0, 1, 4, 6, 1, 6, 1, 4, 0, 6, 4, 0, 4, 1, 4,\n",
       "       6, 6, 4, 6, 0, 1, 4, 4, 4, 6, 0, 1, 4, 6, 0, 6, 1, 1, 1, 1, 6, 0,\n",
       "       0, 6, 4, 1, 1, 4, 1, 6, 6, 6, 1, 6, 1, 6, 0, 0, 4, 1, 6, 0, 0, 4,\n",
       "       4, 6, 4, 0, 6, 4, 6, 0, 6, 1, 0, 0, 1, 0, 0, 4, 1, 1, 0, 6, 4, 0,\n",
       "       1, 0, 1, 6, 6, 1, 1, 0, 6, 0, 1, 1, 6, 1, 5, 4, 2, 3, 5, 7, 4])"
      ]
     },
     "execution_count": 31,
     "metadata": {},
     "output_type": "execute_result"
    },
    {
     "data": {
      "image/png": "[encoded data removed]",
      "text/plain": [
       "<Figure size 432x288 with 1 Axes>"
      ]
     },
     "metadata": {},
     "output_type": "display_data"
    }
   ],
   "source": [
    "y_pred = KMeans(n_clusters=8, random_state=0).fit_predict(X)\n",
    "plt.scatter(X[:, 0], X[:, 1], c=y_pred)\n",
    "y_pred"
   ]
  },
  {
   "cell_type": "code",
   "execution_count": 34,
   "metadata": {},
   "outputs": [],
   "source": [
    "count = {}\n",
    "for i in range(8):\n",
    "    count[i] = 0\n",
    "\n",
    "for point in y_pred:\n",
    "    count[point] += 1\n",
    "\n",
    "for i in range(len(y_pred)):\n",
    "    if count[y_pred[i]] < 5:\n",
    "        y_pred[i] = 1\n",
    "    else:\n",
    "        y_pred[i] = 0"
   ]
  },
  {
   "cell_type": "code",
   "execution_count": 35,
   "metadata": {},
   "outputs": [
    {
     "name": "stdout",
     "output_type": "stream",
     "text": [
      "True positive: 5\n",
      "False positive: 0\n",
      "False negative: 4\n"
     ]
    },
    {
     "data": {
      "text/plain": [
       "71.42857142857143"
      ]
     },
     "execution_count": 35,
     "metadata": {},
     "output_type": "execute_result"
    }
   ],
   "source": [
    "def f1_score(act, pred):\n",
    "\n",
    "    tp = len([[x,y] for x,y in zip(act, pred) if x==y and y==1])\n",
    "    fp = len([[x,y] for x,y in zip(act, pred) if x!=y and x==0])\n",
    "    fn = len([[x,y] for x,y in zip(act, pred) if x!=y and x==1])\n",
    "\n",
    "    print('True positive:', tp)\n",
    "    print('False positive:', fp)\n",
    "    print('False negative:', fn)\n",
    "    \n",
    "    if tp>0:\n",
    "        p=float(tp)/(tp+fp)\n",
    "        r=float(tp)/(tp+fn)\n",
    "\n",
    "        return 200*((p*r)/(p+r))\n",
    "    else:\n",
    "        return 0\n",
    "    \n",
    "f1_score(y, y_pred)"
   ]
  }
 ],
 "metadata": {
  "kernelspec": {
   "display_name": "Python 3",
   "language": "python",
   "name": "python3"
  },
  "language_info": {
   "codemirror_mode": {
    "name": "ipython",
    "version": 3
   },
   "file_extension": ".py",
   "mimetype": "text/x-python",
   "name": "python",
   "nbconvert_exporter": "python",
   "pygments_lexer": "ipython3",
   "version": "3.6.5"
  }
 },
 "nbformat": 4,
 "nbformat_minor": 2
}
