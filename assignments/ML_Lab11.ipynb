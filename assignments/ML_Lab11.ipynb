{
 "cells": [
  {
   "cell_type": "markdown",
   "metadata": {},
   "source": [
    "## Exercise 1"
   ]
  },
  {
   "cell_type": "code",
   "execution_count": 1,
   "metadata": {},
   "outputs": [],
   "source": [
    "def sim_tanimoto(prefs,p1,p2):\n",
    "    \n",
    "    si={}\n",
    "    for item in prefs[p1]: \n",
    "        if item in prefs[p2]:\n",
    "            si[item]=1\n",
    "\n",
    "    if len(si)==0:\n",
    "        return 0\n",
    "    \n",
    "    n=len(si)\n",
    "    sum1Sq=sum([pow(prefs[p1][it],2) for it in si])\n",
    "    sum2Sq=sum([pow(prefs[p2][it],2) for it in si])\n",
    "    pSum=sum([prefs[p1][it]*prefs[p2][it] for it in si])\n",
    "    den=sum1Sq + sum2Sq - pSum\n",
    "\n",
    "    if den==0:\n",
    "        return 0\n",
    "\n",
    "    return pSum/den"
   ]
  },
  {
   "cell_type": "markdown",
   "metadata": {},
   "source": [
    "## Exercise 2"
   ]
  },
  {
   "cell_type": "code",
   "execution_count": 2,
   "metadata": {},
   "outputs": [],
   "source": [
    "from pydelicious import get_popular, get_userposts, get_urlposts\n",
    "\n",
    "def initializeTagsDict(tags, count=5):\n",
    "    tags_dict={}\n",
    "    for tag in tags:\n",
    "        tags_dict[tag]={}\n",
    "    return tags_dict\n",
    "\n",
    "def fillItems(user_dict):\n",
    "    all_items={}\n",
    "    # Find links posted by all users\n",
    "    for user in user_dict:\n",
    "        for i in range(3):\n",
    "            try:\n",
    "                posts=get_userposts(user)\n",
    "                break\n",
    "            except:\n",
    "                print(\"Failed user \"+user+\", retrying\")\n",
    "                time.sleep(4)\n",
    "        for post in posts:\n",
    "            url=post['href']\n",
    "            user_dict[user][url]=1.0\n",
    "            all_items[url]=1\n",
    "    # Fill in missing items with 0\n",
    "    for ratings in user_dict.values( ):\n",
    "        for item in all_items:\n",
    "            if item not in ratings:\n",
    "                ratings[item]=0.0"
   ]
  },
  {
   "cell_type": "markdown",
   "metadata": {},
   "source": [
    "## Exercise 3"
   ]
  },
  {
   "cell_type": "code",
   "execution_count": 5,
   "metadata": {
    "scrolled": false
   },
   "outputs": [],
   "source": [
    "critics={'Lisa Rose': {'Lady in the Water': 2.5, 'Snakes on a Plane': 3.5, 'Just My Luck': 3.0, 'Superman Returns': 3.5, 'You, Me and Dupree': 2.5, 'The Night Listener': 3.0},\n",
    "'Gene Seymour': {'Lady in the Water': 3.0, 'Snakes on a Plane': 3.5, 'Just My Luck': 1.5, 'Superman Returns': 5.0, 'The Night Listener': 3.0, 'You, Me and Dupree': 3.5},\n",
    "'Michael Phillips': {'Lady in the Water': 2.5, 'Snakes on a Plane': 3.0, 'Superman Returns': 3.5, 'The Night Listener': 4.0},\n",
    "'Claudia Puig': {'Snakes on a Plane': 3.5, 'Just My Luck': 3.0, 'The Night Listener': 4.5, 'Superman Returns': 4.0, 'You, Me and Dupree': 2.5},\n",
    "'Mick LaSalle': {'Lady in the Water': 3.0, 'Snakes on a Plane': 4.0, 'Just My Luck': 2.0, 'Superman Returns': 3.0, 'The Night Listener': 3.0, 'You, Me and Dupree': 2.0},\n",
    "'Jack Matthews': {'Lady in the Water': 3.0, 'Snakes on a Plane': 4.0, 'The Night Listener': 3.0, 'Superman Returns': 5.0, 'You, Me and Dupree': 3.5},\n",
    "'Toby': {'Snakes on a Plane':4.5,'You, Me and Dupree':1.0,'Superman Returns':4.0}}"
   ]
  },
  {
   "cell_type": "code",
   "execution_count": 20,
   "metadata": {},
   "outputs": [
    {
     "data": {
      "text/plain": [
       "[(3.3477895267131013, 'The Night Listener'),\n",
       " (2.8325499182641614, 'Lady in the Water'),\n",
       " (2.5309807037655645, 'Just My Luck')]"
      ]
     },
     "execution_count": 20,
     "metadata": {},
     "output_type": "execute_result"
    }
   ],
   "source": [
    "def sim_pearson(prefs,p1,p2):\n",
    "\n",
    "    si={}\n",
    "    for item in prefs[p1]:\n",
    "        if item in prefs[p2]: si[item]=1\n",
    "    \n",
    "    n=len(si)\n",
    "    if n==0: return 0\n",
    "\n",
    "    sum1=sum([prefs[p1][it] for it in si])\n",
    "    sum2=sum([prefs[p2][it] for it in si])\n",
    "    sum1Sq=sum([pow(prefs[p1][it],2) for it in si])\n",
    "    sum2Sq=sum([pow(prefs[p2][it],2) for it in si])\n",
    "    pSum=sum([prefs[p1][it]*prefs[p2][it] for it in si])\n",
    "    num=pSum-(sum1*sum2/n)\n",
    "    den=pow(((sum1Sq-pow(sum1,2)/n)*(sum2Sq-pow(sum2,2)/n)), 0.5)\n",
    "\n",
    "    if den==0: return 0\n",
    "    return num/den\n",
    "\n",
    "def topMatches(prefs,person,n=5,similarity=sim_pearson):\n",
    "    \n",
    "    scores=[(similarity(prefs,person,other),other) for other in prefs if other!=person]\n",
    "    scores.sort()\n",
    "    scores.reverse()\n",
    "    return scores[0:n]\n",
    "\n",
    "def pre_sim(prefs, n, similarity=sim_pearson):\n",
    "    sim = {}\n",
    "    for p1 in prefs:\n",
    "        sim[p1] = topMatches(prefs, p1, n, similarity)\n",
    "    \n",
    "    return sim\n",
    "\n",
    "def getRecommendations(prefs,person,similarity=sim_pearson):\n",
    "  \n",
    "    n = 5\n",
    "    totals={}\n",
    "    simSums={}\n",
    "    sims = pre_sim(prefs, n)\n",
    "    for pair in sims[person]:\n",
    "        for item in prefs[pair[1]]:\n",
    "            if item not in prefs[person] or prefs[person][item]==0:\n",
    "                totals.setdefault(item,0)\n",
    "                totals[item]+=prefs[pair[1]][item]*pair[0]\n",
    "                simSums.setdefault(item,0)\n",
    "                simSums[item]+=pair[0]\n",
    "    \n",
    "    rankings=[(total/simSums[item],item) for item,total in totals.items( )]\n",
    "    rankings.sort()\n",
    "    rankings.reverse()\n",
    "    return rankings\n",
    "\n",
    "getRecommendations(critics, 'Toby')"
   ]
  }
 ],
 "metadata": {
  "kernelspec": {
   "display_name": "Python 3",
   "language": "python",
   "name": "python3"
  },
  "language_info": {
   "codemirror_mode": {
    "name": "ipython",
    "version": 3
   },
   "file_extension": ".py",
   "mimetype": "text/x-python",
   "name": "python",
   "nbconvert_exporter": "python",
   "pygments_lexer": "ipython3",
   "version": "3.6.5"
  }
 },
 "nbformat": 4,
 "nbformat_minor": 2
}
